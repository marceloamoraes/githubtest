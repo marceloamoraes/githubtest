{
  "nbformat": 4,
  "nbformat_minor": 0,
  "metadata": {
    "colab": {
      "name": "Project_Travel_Package_Purchase.ipynb",
      "provenance": [],
      "collapsed_sections": [],
      "authorship_tag": "ABX9TyOz4Mj58zfj0tXvVev2798J",
      "include_colab_link": true
    },
    "kernelspec": {
      "name": "python3",
      "display_name": "Python 3"
    },
    "language_info": {
      "name": "python"
    }
  },
  "cells": [
    {
      "cell_type": "markdown",
      "metadata": {
        "id": "view-in-github",
        "colab_type": "text"
      },
      "source": [
        "<a href=\"https://colab.research.google.com/github/marceloamoraes/githubtest/blob/main/Project_Travel_Package_Purchase.ipynb\" target=\"_parent\"><img src=\"https://colab.research.google.com/assets/colab-badge.svg\" alt=\"Open In Colab\"/></a>"
      ]
    },
    {
      "cell_type": "markdown",
      "metadata": {
        "id": "Sjv09Lw5383j"
      },
      "source": [
        "### **Import necessary libraries**"
      ]
    },
    {
      "cell_type": "code",
      "metadata": {
        "id": "6X4PHIaz2lDP"
      },
      "source": [
        "\n",
        "import numpy as np\n",
        "import pandas as pd\n",
        "import matplotlib.pyplot as plt\n",
        "import seaborn as sns\n",
        "from sklearn.tree import DecisionTreeClassifier\n",
        "from sklearn.model_selection import train_test_split\n",
        "from sklearn.metrics import confusion_matrix, classification_report\n",
        "from sklearn.metrics import accuracy_score,precision_score,recall_score,f1_score\n",
        "import scipy.stats as stats\n",
        "from sklearn import metrics\n",
        "from sklearn import tree\n",
        "from sklearn.model_selection import GridSearchCV\n",
        "from sklearn.ensemble import BaggingClassifier\n",
        "from sklearn.ensemble import RandomForestClassifier\n",
        "from sklearn.ensemble import AdaBoostClassifier, GradientBoostingClassifier\n",
        "from xgboost import XGBClassifier\n",
        "import warnings\n",
        "warnings.filterwarnings('ignore')\n"
      ],
      "execution_count": 1,
      "outputs": []
    },
    {
      "cell_type": "markdown",
      "metadata": {
        "id": "hOK6830Y37tj"
      },
      "source": [
        "### **Read the dataset**"
      ]
    },
    {
      "cell_type": "code",
      "metadata": {
        "id": "9TOwzCIe23qA"
      },
      "source": [
        "df = pd.read_excel('Tourism.xlsx', sheet_name='Tourism')"
      ],
      "execution_count": 2,
      "outputs": []
    },
    {
      "cell_type": "code",
      "metadata": {
        "colab": {
          "base_uri": "https://localhost:8080/",
          "height": 275
        },
        "id": "kYr2mT403DzV",
        "outputId": "8e24302d-c613-4a82-defa-e0e40f08a4f6"
      },
      "source": [
        "df.head()"
      ],
      "execution_count": 3,
      "outputs": [
        {
          "output_type": "execute_result",
          "data": {
            "text/html": [
              "<div>\n",
              "<style scoped>\n",
              "    .dataframe tbody tr th:only-of-type {\n",
              "        vertical-align: middle;\n",
              "    }\n",
              "\n",
              "    .dataframe tbody tr th {\n",
              "        vertical-align: top;\n",
              "    }\n",
              "\n",
              "    .dataframe thead th {\n",
              "        text-align: right;\n",
              "    }\n",
              "</style>\n",
              "<table border=\"1\" class=\"dataframe\">\n",
              "  <thead>\n",
              "    <tr style=\"text-align: right;\">\n",
              "      <th></th>\n",
              "      <th>CustomerID</th>\n",
              "      <th>ProdTaken</th>\n",
              "      <th>Age</th>\n",
              "      <th>TypeofContact</th>\n",
              "      <th>CityTier</th>\n",
              "      <th>DurationOfPitch</th>\n",
              "      <th>Occupation</th>\n",
              "      <th>Gender</th>\n",
              "      <th>NumberOfPersonVisited</th>\n",
              "      <th>NumberOfFollowups</th>\n",
              "      <th>ProductPitched</th>\n",
              "      <th>PreferredPropertyStar</th>\n",
              "      <th>MaritalStatus</th>\n",
              "      <th>NumberOfTrips</th>\n",
              "      <th>Passport</th>\n",
              "      <th>PitchSatisfactionScore</th>\n",
              "      <th>OwnCar</th>\n",
              "      <th>NumberOfChildrenVisited</th>\n",
              "      <th>Designation</th>\n",
              "      <th>MonthlyIncome</th>\n",
              "    </tr>\n",
              "  </thead>\n",
              "  <tbody>\n",
              "    <tr>\n",
              "      <th>0</th>\n",
              "      <td>200000</td>\n",
              "      <td>1</td>\n",
              "      <td>41.0</td>\n",
              "      <td>Self Enquiry</td>\n",
              "      <td>3</td>\n",
              "      <td>6.0</td>\n",
              "      <td>Salaried</td>\n",
              "      <td>Female</td>\n",
              "      <td>3</td>\n",
              "      <td>3.0</td>\n",
              "      <td>Deluxe</td>\n",
              "      <td>3.0</td>\n",
              "      <td>Single</td>\n",
              "      <td>1.0</td>\n",
              "      <td>1</td>\n",
              "      <td>2</td>\n",
              "      <td>1</td>\n",
              "      <td>0.0</td>\n",
              "      <td>Manager</td>\n",
              "      <td>20993.0</td>\n",
              "    </tr>\n",
              "    <tr>\n",
              "      <th>1</th>\n",
              "      <td>200001</td>\n",
              "      <td>0</td>\n",
              "      <td>49.0</td>\n",
              "      <td>Company Invited</td>\n",
              "      <td>1</td>\n",
              "      <td>14.0</td>\n",
              "      <td>Salaried</td>\n",
              "      <td>Male</td>\n",
              "      <td>3</td>\n",
              "      <td>4.0</td>\n",
              "      <td>Deluxe</td>\n",
              "      <td>4.0</td>\n",
              "      <td>Divorced</td>\n",
              "      <td>2.0</td>\n",
              "      <td>0</td>\n",
              "      <td>3</td>\n",
              "      <td>1</td>\n",
              "      <td>2.0</td>\n",
              "      <td>Manager</td>\n",
              "      <td>20130.0</td>\n",
              "    </tr>\n",
              "    <tr>\n",
              "      <th>2</th>\n",
              "      <td>200002</td>\n",
              "      <td>1</td>\n",
              "      <td>37.0</td>\n",
              "      <td>Self Enquiry</td>\n",
              "      <td>1</td>\n",
              "      <td>8.0</td>\n",
              "      <td>Free Lancer</td>\n",
              "      <td>Male</td>\n",
              "      <td>3</td>\n",
              "      <td>4.0</td>\n",
              "      <td>Basic</td>\n",
              "      <td>3.0</td>\n",
              "      <td>Single</td>\n",
              "      <td>7.0</td>\n",
              "      <td>1</td>\n",
              "      <td>3</td>\n",
              "      <td>0</td>\n",
              "      <td>0.0</td>\n",
              "      <td>Executive</td>\n",
              "      <td>17090.0</td>\n",
              "    </tr>\n",
              "    <tr>\n",
              "      <th>3</th>\n",
              "      <td>200003</td>\n",
              "      <td>0</td>\n",
              "      <td>33.0</td>\n",
              "      <td>Company Invited</td>\n",
              "      <td>1</td>\n",
              "      <td>9.0</td>\n",
              "      <td>Salaried</td>\n",
              "      <td>Female</td>\n",
              "      <td>2</td>\n",
              "      <td>3.0</td>\n",
              "      <td>Basic</td>\n",
              "      <td>3.0</td>\n",
              "      <td>Divorced</td>\n",
              "      <td>2.0</td>\n",
              "      <td>1</td>\n",
              "      <td>5</td>\n",
              "      <td>1</td>\n",
              "      <td>1.0</td>\n",
              "      <td>Executive</td>\n",
              "      <td>17909.0</td>\n",
              "    </tr>\n",
              "    <tr>\n",
              "      <th>4</th>\n",
              "      <td>200004</td>\n",
              "      <td>0</td>\n",
              "      <td>NaN</td>\n",
              "      <td>Self Enquiry</td>\n",
              "      <td>1</td>\n",
              "      <td>8.0</td>\n",
              "      <td>Small Business</td>\n",
              "      <td>Male</td>\n",
              "      <td>2</td>\n",
              "      <td>3.0</td>\n",
              "      <td>Basic</td>\n",
              "      <td>4.0</td>\n",
              "      <td>Divorced</td>\n",
              "      <td>1.0</td>\n",
              "      <td>0</td>\n",
              "      <td>5</td>\n",
              "      <td>1</td>\n",
              "      <td>0.0</td>\n",
              "      <td>Executive</td>\n",
              "      <td>18468.0</td>\n",
              "    </tr>\n",
              "  </tbody>\n",
              "</table>\n",
              "</div>"
            ],
            "text/plain": [
              "   CustomerID  ProdTaken  ...  Designation MonthlyIncome\n",
              "0      200000          1  ...      Manager       20993.0\n",
              "1      200001          0  ...      Manager       20130.0\n",
              "2      200002          1  ...    Executive       17090.0\n",
              "3      200003          0  ...    Executive       17909.0\n",
              "4      200004          0  ...    Executive       18468.0\n",
              "\n",
              "[5 rows x 20 columns]"
            ]
          },
          "metadata": {
            "tags": []
          },
          "execution_count": 3
        }
      ]
    },
    {
      "cell_type": "code",
      "metadata": {
        "colab": {
          "base_uri": "https://localhost:8080/",
          "height": 292
        },
        "id": "Fu2bPimQ4M_c",
        "outputId": "e3d491c4-599f-49bd-fb52-11e7486322f1"
      },
      "source": [
        "df.tail()"
      ],
      "execution_count": 4,
      "outputs": [
        {
          "output_type": "execute_result",
          "data": {
            "text/html": [
              "<div>\n",
              "<style scoped>\n",
              "    .dataframe tbody tr th:only-of-type {\n",
              "        vertical-align: middle;\n",
              "    }\n",
              "\n",
              "    .dataframe tbody tr th {\n",
              "        vertical-align: top;\n",
              "    }\n",
              "\n",
              "    .dataframe thead th {\n",
              "        text-align: right;\n",
              "    }\n",
              "</style>\n",
              "<table border=\"1\" class=\"dataframe\">\n",
              "  <thead>\n",
              "    <tr style=\"text-align: right;\">\n",
              "      <th></th>\n",
              "      <th>CustomerID</th>\n",
              "      <th>ProdTaken</th>\n",
              "      <th>Age</th>\n",
              "      <th>TypeofContact</th>\n",
              "      <th>CityTier</th>\n",
              "      <th>DurationOfPitch</th>\n",
              "      <th>Occupation</th>\n",
              "      <th>Gender</th>\n",
              "      <th>NumberOfPersonVisited</th>\n",
              "      <th>NumberOfFollowups</th>\n",
              "      <th>ProductPitched</th>\n",
              "      <th>PreferredPropertyStar</th>\n",
              "      <th>MaritalStatus</th>\n",
              "      <th>NumberOfTrips</th>\n",
              "      <th>Passport</th>\n",
              "      <th>PitchSatisfactionScore</th>\n",
              "      <th>OwnCar</th>\n",
              "      <th>NumberOfChildrenVisited</th>\n",
              "      <th>Designation</th>\n",
              "      <th>MonthlyIncome</th>\n",
              "    </tr>\n",
              "  </thead>\n",
              "  <tbody>\n",
              "    <tr>\n",
              "      <th>4883</th>\n",
              "      <td>204883</td>\n",
              "      <td>1</td>\n",
              "      <td>49.0</td>\n",
              "      <td>Self Enquiry</td>\n",
              "      <td>3</td>\n",
              "      <td>9.0</td>\n",
              "      <td>Small Business</td>\n",
              "      <td>Male</td>\n",
              "      <td>3</td>\n",
              "      <td>5.0</td>\n",
              "      <td>Deluxe</td>\n",
              "      <td>4.0</td>\n",
              "      <td>Unmarried</td>\n",
              "      <td>2.0</td>\n",
              "      <td>1</td>\n",
              "      <td>1</td>\n",
              "      <td>1</td>\n",
              "      <td>1.0</td>\n",
              "      <td>Manager</td>\n",
              "      <td>26576.0</td>\n",
              "    </tr>\n",
              "    <tr>\n",
              "      <th>4884</th>\n",
              "      <td>204884</td>\n",
              "      <td>1</td>\n",
              "      <td>28.0</td>\n",
              "      <td>Company Invited</td>\n",
              "      <td>1</td>\n",
              "      <td>31.0</td>\n",
              "      <td>Salaried</td>\n",
              "      <td>Male</td>\n",
              "      <td>4</td>\n",
              "      <td>5.0</td>\n",
              "      <td>Basic</td>\n",
              "      <td>3.0</td>\n",
              "      <td>Single</td>\n",
              "      <td>3.0</td>\n",
              "      <td>1</td>\n",
              "      <td>3</td>\n",
              "      <td>1</td>\n",
              "      <td>2.0</td>\n",
              "      <td>Executive</td>\n",
              "      <td>21212.0</td>\n",
              "    </tr>\n",
              "    <tr>\n",
              "      <th>4885</th>\n",
              "      <td>204885</td>\n",
              "      <td>1</td>\n",
              "      <td>52.0</td>\n",
              "      <td>Self Enquiry</td>\n",
              "      <td>3</td>\n",
              "      <td>17.0</td>\n",
              "      <td>Salaried</td>\n",
              "      <td>Female</td>\n",
              "      <td>4</td>\n",
              "      <td>4.0</td>\n",
              "      <td>Standard</td>\n",
              "      <td>4.0</td>\n",
              "      <td>Married</td>\n",
              "      <td>7.0</td>\n",
              "      <td>0</td>\n",
              "      <td>1</td>\n",
              "      <td>1</td>\n",
              "      <td>3.0</td>\n",
              "      <td>Senior Manager</td>\n",
              "      <td>31820.0</td>\n",
              "    </tr>\n",
              "    <tr>\n",
              "      <th>4886</th>\n",
              "      <td>204886</td>\n",
              "      <td>1</td>\n",
              "      <td>19.0</td>\n",
              "      <td>Self Enquiry</td>\n",
              "      <td>3</td>\n",
              "      <td>16.0</td>\n",
              "      <td>Small Business</td>\n",
              "      <td>Male</td>\n",
              "      <td>3</td>\n",
              "      <td>4.0</td>\n",
              "      <td>Basic</td>\n",
              "      <td>3.0</td>\n",
              "      <td>Single</td>\n",
              "      <td>3.0</td>\n",
              "      <td>0</td>\n",
              "      <td>5</td>\n",
              "      <td>0</td>\n",
              "      <td>2.0</td>\n",
              "      <td>Executive</td>\n",
              "      <td>20289.0</td>\n",
              "    </tr>\n",
              "    <tr>\n",
              "      <th>4887</th>\n",
              "      <td>204887</td>\n",
              "      <td>1</td>\n",
              "      <td>36.0</td>\n",
              "      <td>Self Enquiry</td>\n",
              "      <td>1</td>\n",
              "      <td>14.0</td>\n",
              "      <td>Salaried</td>\n",
              "      <td>Male</td>\n",
              "      <td>4</td>\n",
              "      <td>4.0</td>\n",
              "      <td>Basic</td>\n",
              "      <td>4.0</td>\n",
              "      <td>Unmarried</td>\n",
              "      <td>3.0</td>\n",
              "      <td>1</td>\n",
              "      <td>3</td>\n",
              "      <td>1</td>\n",
              "      <td>2.0</td>\n",
              "      <td>Executive</td>\n",
              "      <td>24041.0</td>\n",
              "    </tr>\n",
              "  </tbody>\n",
              "</table>\n",
              "</div>"
            ],
            "text/plain": [
              "      CustomerID  ProdTaken  ...     Designation MonthlyIncome\n",
              "4883      204883          1  ...         Manager       26576.0\n",
              "4884      204884          1  ...       Executive       21212.0\n",
              "4885      204885          1  ...  Senior Manager       31820.0\n",
              "4886      204886          1  ...       Executive       20289.0\n",
              "4887      204887          1  ...       Executive       24041.0\n",
              "\n",
              "[5 rows x 20 columns]"
            ]
          },
          "metadata": {
            "tags": []
          },
          "execution_count": 4
        }
      ]
    },
    {
      "cell_type": "markdown",
      "metadata": {
        "id": "e8V3F1iH5Bk8"
      },
      "source": [
        "### **Getting some information and data types about the data¶**"
      ]
    },
    {
      "cell_type": "code",
      "metadata": {
        "colab": {
          "base_uri": "https://localhost:8080/"
        },
        "id": "Lh1TylH95FST",
        "outputId": "56573f3a-e826-4db7-de83-6b3db24ed2ff"
      },
      "source": [
        "df.info()"
      ],
      "execution_count": 5,
      "outputs": [
        {
          "output_type": "stream",
          "text": [
            "<class 'pandas.core.frame.DataFrame'>\n",
            "RangeIndex: 4888 entries, 0 to 4887\n",
            "Data columns (total 20 columns):\n",
            " #   Column                   Non-Null Count  Dtype  \n",
            "---  ------                   --------------  -----  \n",
            " 0   CustomerID               4888 non-null   int64  \n",
            " 1   ProdTaken                4888 non-null   int64  \n",
            " 2   Age                      4662 non-null   float64\n",
            " 3   TypeofContact            4863 non-null   object \n",
            " 4   CityTier                 4888 non-null   int64  \n",
            " 5   DurationOfPitch          4637 non-null   float64\n",
            " 6   Occupation               4888 non-null   object \n",
            " 7   Gender                   4888 non-null   object \n",
            " 8   NumberOfPersonVisited    4888 non-null   int64  \n",
            " 9   NumberOfFollowups        4843 non-null   float64\n",
            " 10  ProductPitched           4888 non-null   object \n",
            " 11  PreferredPropertyStar    4862 non-null   float64\n",
            " 12  MaritalStatus            4888 non-null   object \n",
            " 13  NumberOfTrips            4748 non-null   float64\n",
            " 14  Passport                 4888 non-null   int64  \n",
            " 15  PitchSatisfactionScore   4888 non-null   int64  \n",
            " 16  OwnCar                   4888 non-null   int64  \n",
            " 17  NumberOfChildrenVisited  4822 non-null   float64\n",
            " 18  Designation              4888 non-null   object \n",
            " 19  MonthlyIncome            4655 non-null   float64\n",
            "dtypes: float64(7), int64(7), object(6)\n",
            "memory usage: 763.9+ KB\n"
          ],
          "name": "stdout"
        }
      ]
    },
    {
      "cell_type": "markdown",
      "metadata": {
        "id": "ze7V-S-r5K-0"
      },
      "source": [
        "**Observations**\n",
        "* There are several variables with missing values: Age, TypeofContact, DurationOfPitch, NumberOfFollowups, PreferredPropertyStar, NumberOfTrips, NumberOfChildrenVisited and MonthlyIncome\n",
        "* All 'Object' variable should be changed to 'Categorical' since they represent a sort of category.\n",
        "* At this point feature engineering does not seem to be required."
      ]
    },
    {
      "cell_type": "code",
      "metadata": {
        "colab": {
          "base_uri": "https://localhost:8080/"
        },
        "id": "y_rLWmn55UF-",
        "outputId": "8439fe26-1640-4cbb-e1e8-4eb2a98a584b"
      },
      "source": [
        "df.columns"
      ],
      "execution_count": 6,
      "outputs": [
        {
          "output_type": "execute_result",
          "data": {
            "text/plain": [
              "Index(['CustomerID', 'ProdTaken', 'Age', 'TypeofContact', 'CityTier',\n",
              "       'DurationOfPitch', 'Occupation', 'Gender', 'NumberOfPersonVisited',\n",
              "       'NumberOfFollowups', 'ProductPitched', 'PreferredPropertyStar',\n",
              "       'MaritalStatus', 'NumberOfTrips', 'Passport', 'PitchSatisfactionScore',\n",
              "       'OwnCar', 'NumberOfChildrenVisited', 'Designation', 'MonthlyIncome'],\n",
              "      dtype='object')"
            ]
          },
          "metadata": {
            "tags": []
          },
          "execution_count": 6
        }
      ]
    },
    {
      "cell_type": "code",
      "metadata": {
        "id": "A9mXHM_e5Uor"
      },
      "source": [
        "#Fixing the data type\n",
        "df[\"TypeofContact\"] = df[\"TypeofContact\"].astype(\"category\")\n",
        "df[\"Occupation\"] = df[\"Occupation\"].astype(\"category\")\n",
        "df[\"Gender\"] = df[\"Gender\"].astype(\"category\")\n",
        "df[\"ProductPitched\"] = df[\"ProductPitched\"].astype(\"category\")\n",
        "df[\"MaritalStatus\"] = df[\"MaritalStatus\"].astype(\"category\")\n",
        "df[\"Designation\"] = df[\"Designation\"].astype(\"category\")"
      ],
      "execution_count": 7,
      "outputs": []
    },
    {
      "cell_type": "code",
      "metadata": {
        "colab": {
          "base_uri": "https://localhost:8080/"
        },
        "id": "iUTVqOWz5YbM",
        "outputId": "e6468edc-7197-4274-d3b0-f4f83507f6ce"
      },
      "source": [
        "#Searching for duplicated values\n",
        "duplicated = df.duplicated()\n",
        "sum(duplicated)"
      ],
      "execution_count": 8,
      "outputs": [
        {
          "output_type": "execute_result",
          "data": {
            "text/plain": [
              "0"
            ]
          },
          "metadata": {
            "tags": []
          },
          "execution_count": 8
        }
      ]
    },
    {
      "cell_type": "code",
      "metadata": {
        "colab": {
          "base_uri": "https://localhost:8080/",
          "height": 503
        },
        "id": "odMwmpRf5vce",
        "outputId": "8fac48dd-354e-47e5-f17a-7f43f3d314da"
      },
      "source": [
        "df.describe().T  # quick summary of numeric features"
      ],
      "execution_count": 9,
      "outputs": [
        {
          "output_type": "execute_result",
          "data": {
            "text/html": [
              "<div>\n",
              "<style scoped>\n",
              "    .dataframe tbody tr th:only-of-type {\n",
              "        vertical-align: middle;\n",
              "    }\n",
              "\n",
              "    .dataframe tbody tr th {\n",
              "        vertical-align: top;\n",
              "    }\n",
              "\n",
              "    .dataframe thead th {\n",
              "        text-align: right;\n",
              "    }\n",
              "</style>\n",
              "<table border=\"1\" class=\"dataframe\">\n",
              "  <thead>\n",
              "    <tr style=\"text-align: right;\">\n",
              "      <th></th>\n",
              "      <th>count</th>\n",
              "      <th>mean</th>\n",
              "      <th>std</th>\n",
              "      <th>min</th>\n",
              "      <th>25%</th>\n",
              "      <th>50%</th>\n",
              "      <th>75%</th>\n",
              "      <th>max</th>\n",
              "    </tr>\n",
              "  </thead>\n",
              "  <tbody>\n",
              "    <tr>\n",
              "      <th>CustomerID</th>\n",
              "      <td>4888.0</td>\n",
              "      <td>202443.500000</td>\n",
              "      <td>1411.188388</td>\n",
              "      <td>200000.0</td>\n",
              "      <td>201221.75</td>\n",
              "      <td>202443.5</td>\n",
              "      <td>203665.25</td>\n",
              "      <td>204887.0</td>\n",
              "    </tr>\n",
              "    <tr>\n",
              "      <th>ProdTaken</th>\n",
              "      <td>4888.0</td>\n",
              "      <td>0.188216</td>\n",
              "      <td>0.390925</td>\n",
              "      <td>0.0</td>\n",
              "      <td>0.00</td>\n",
              "      <td>0.0</td>\n",
              "      <td>0.00</td>\n",
              "      <td>1.0</td>\n",
              "    </tr>\n",
              "    <tr>\n",
              "      <th>Age</th>\n",
              "      <td>4662.0</td>\n",
              "      <td>37.622265</td>\n",
              "      <td>9.316387</td>\n",
              "      <td>18.0</td>\n",
              "      <td>31.00</td>\n",
              "      <td>36.0</td>\n",
              "      <td>44.00</td>\n",
              "      <td>61.0</td>\n",
              "    </tr>\n",
              "    <tr>\n",
              "      <th>CityTier</th>\n",
              "      <td>4888.0</td>\n",
              "      <td>1.654255</td>\n",
              "      <td>0.916583</td>\n",
              "      <td>1.0</td>\n",
              "      <td>1.00</td>\n",
              "      <td>1.0</td>\n",
              "      <td>3.00</td>\n",
              "      <td>3.0</td>\n",
              "    </tr>\n",
              "    <tr>\n",
              "      <th>DurationOfPitch</th>\n",
              "      <td>4637.0</td>\n",
              "      <td>15.490835</td>\n",
              "      <td>8.519643</td>\n",
              "      <td>5.0</td>\n",
              "      <td>9.00</td>\n",
              "      <td>13.0</td>\n",
              "      <td>20.00</td>\n",
              "      <td>127.0</td>\n",
              "    </tr>\n",
              "    <tr>\n",
              "      <th>NumberOfPersonVisited</th>\n",
              "      <td>4888.0</td>\n",
              "      <td>2.905074</td>\n",
              "      <td>0.724891</td>\n",
              "      <td>1.0</td>\n",
              "      <td>2.00</td>\n",
              "      <td>3.0</td>\n",
              "      <td>3.00</td>\n",
              "      <td>5.0</td>\n",
              "    </tr>\n",
              "    <tr>\n",
              "      <th>NumberOfFollowups</th>\n",
              "      <td>4843.0</td>\n",
              "      <td>3.708445</td>\n",
              "      <td>1.002509</td>\n",
              "      <td>1.0</td>\n",
              "      <td>3.00</td>\n",
              "      <td>4.0</td>\n",
              "      <td>4.00</td>\n",
              "      <td>6.0</td>\n",
              "    </tr>\n",
              "    <tr>\n",
              "      <th>PreferredPropertyStar</th>\n",
              "      <td>4862.0</td>\n",
              "      <td>3.581037</td>\n",
              "      <td>0.798009</td>\n",
              "      <td>3.0</td>\n",
              "      <td>3.00</td>\n",
              "      <td>3.0</td>\n",
              "      <td>4.00</td>\n",
              "      <td>5.0</td>\n",
              "    </tr>\n",
              "    <tr>\n",
              "      <th>NumberOfTrips</th>\n",
              "      <td>4748.0</td>\n",
              "      <td>3.236521</td>\n",
              "      <td>1.849019</td>\n",
              "      <td>1.0</td>\n",
              "      <td>2.00</td>\n",
              "      <td>3.0</td>\n",
              "      <td>4.00</td>\n",
              "      <td>22.0</td>\n",
              "    </tr>\n",
              "    <tr>\n",
              "      <th>Passport</th>\n",
              "      <td>4888.0</td>\n",
              "      <td>0.290917</td>\n",
              "      <td>0.454232</td>\n",
              "      <td>0.0</td>\n",
              "      <td>0.00</td>\n",
              "      <td>0.0</td>\n",
              "      <td>1.00</td>\n",
              "      <td>1.0</td>\n",
              "    </tr>\n",
              "    <tr>\n",
              "      <th>PitchSatisfactionScore</th>\n",
              "      <td>4888.0</td>\n",
              "      <td>3.078151</td>\n",
              "      <td>1.365792</td>\n",
              "      <td>1.0</td>\n",
              "      <td>2.00</td>\n",
              "      <td>3.0</td>\n",
              "      <td>4.00</td>\n",
              "      <td>5.0</td>\n",
              "    </tr>\n",
              "    <tr>\n",
              "      <th>OwnCar</th>\n",
              "      <td>4888.0</td>\n",
              "      <td>0.620295</td>\n",
              "      <td>0.485363</td>\n",
              "      <td>0.0</td>\n",
              "      <td>0.00</td>\n",
              "      <td>1.0</td>\n",
              "      <td>1.00</td>\n",
              "      <td>1.0</td>\n",
              "    </tr>\n",
              "    <tr>\n",
              "      <th>NumberOfChildrenVisited</th>\n",
              "      <td>4822.0</td>\n",
              "      <td>1.187267</td>\n",
              "      <td>0.857861</td>\n",
              "      <td>0.0</td>\n",
              "      <td>1.00</td>\n",
              "      <td>1.0</td>\n",
              "      <td>2.00</td>\n",
              "      <td>3.0</td>\n",
              "    </tr>\n",
              "    <tr>\n",
              "      <th>MonthlyIncome</th>\n",
              "      <td>4655.0</td>\n",
              "      <td>23619.853491</td>\n",
              "      <td>5380.698361</td>\n",
              "      <td>1000.0</td>\n",
              "      <td>20346.00</td>\n",
              "      <td>22347.0</td>\n",
              "      <td>25571.00</td>\n",
              "      <td>98678.0</td>\n",
              "    </tr>\n",
              "  </tbody>\n",
              "</table>\n",
              "</div>"
            ],
            "text/plain": [
              "                          count           mean  ...        75%       max\n",
              "CustomerID               4888.0  202443.500000  ...  203665.25  204887.0\n",
              "ProdTaken                4888.0       0.188216  ...       0.00       1.0\n",
              "Age                      4662.0      37.622265  ...      44.00      61.0\n",
              "CityTier                 4888.0       1.654255  ...       3.00       3.0\n",
              "DurationOfPitch          4637.0      15.490835  ...      20.00     127.0\n",
              "NumberOfPersonVisited    4888.0       2.905074  ...       3.00       5.0\n",
              "NumberOfFollowups        4843.0       3.708445  ...       4.00       6.0\n",
              "PreferredPropertyStar    4862.0       3.581037  ...       4.00       5.0\n",
              "NumberOfTrips            4748.0       3.236521  ...       4.00      22.0\n",
              "Passport                 4888.0       0.290917  ...       1.00       1.0\n",
              "PitchSatisfactionScore   4888.0       3.078151  ...       4.00       5.0\n",
              "OwnCar                   4888.0       0.620295  ...       1.00       1.0\n",
              "NumberOfChildrenVisited  4822.0       1.187267  ...       2.00       3.0\n",
              "MonthlyIncome            4655.0   23619.853491  ...   25571.00   98678.0\n",
              "\n",
              "[14 rows x 8 columns]"
            ]
          },
          "metadata": {
            "tags": []
          },
          "execution_count": 9
        }
      ]
    },
    {
      "cell_type": "markdown",
      "metadata": {
        "id": "4V_eaxGZ7H28"
      },
      "source": [
        "**Observations**\n",
        "* "
      ]
    },
    {
      "cell_type": "markdown",
      "metadata": {
        "id": "A5w0-uv-8YEy"
      },
      "source": [
        "### **Missing Values**"
      ]
    },
    {
      "cell_type": "code",
      "metadata": {
        "colab": {
          "base_uri": "https://localhost:8080/"
        },
        "id": "iAJ_ydA19I4A",
        "outputId": "9b71cc8d-f757-4ecd-ab3b-0c035967bb7a"
      },
      "source": [
        "df.isnull().sum() # lots of columns don't have missingness"
      ],
      "execution_count": 10,
      "outputs": [
        {
          "output_type": "execute_result",
          "data": {
            "text/plain": [
              "CustomerID                   0\n",
              "ProdTaken                    0\n",
              "Age                        226\n",
              "TypeofContact               25\n",
              "CityTier                     0\n",
              "DurationOfPitch            251\n",
              "Occupation                   0\n",
              "Gender                       0\n",
              "NumberOfPersonVisited        0\n",
              "NumberOfFollowups           45\n",
              "ProductPitched               0\n",
              "PreferredPropertyStar       26\n",
              "MaritalStatus                0\n",
              "NumberOfTrips              140\n",
              "Passport                     0\n",
              "PitchSatisfactionScore       0\n",
              "OwnCar                       0\n",
              "NumberOfChildrenVisited     66\n",
              "Designation                  0\n",
              "MonthlyIncome              233\n",
              "dtype: int64"
            ]
          },
          "metadata": {
            "tags": []
          },
          "execution_count": 10
        }
      ]
    },
    {
      "cell_type": "code",
      "metadata": {
        "colab": {
          "base_uri": "https://localhost:8080/"
        },
        "id": "Dod1pbDz9s8R",
        "outputId": "4807bcf0-41a5-49c1-f611-0b5501e783e8"
      },
      "source": [
        "# most rows don't have missing values now\n",
        "num_missing = df.isnull().sum(axis=1)\n",
        "num_missing.value_counts()"
      ],
      "execution_count": 11,
      "outputs": [
        {
          "output_type": "execute_result",
          "data": {
            "text/plain": [
              "0    4128\n",
              "1     533\n",
              "2     202\n",
              "3      25\n",
              "dtype: int64"
            ]
          },
          "metadata": {
            "tags": []
          },
          "execution_count": 11
        }
      ]
    },
    {
      "cell_type": "code",
      "metadata": {
        "colab": {
          "base_uri": "https://localhost:8080/",
          "height": 275
        },
        "id": "gEEDH9bn9fOf",
        "outputId": "eb165403-0894-4eac-af51-766d1d380fc3"
      },
      "source": [
        "# checking patterns in the missingness\n",
        "df[num_missing == 2].sample(n=5)"
      ],
      "execution_count": 12,
      "outputs": [
        {
          "output_type": "execute_result",
          "data": {
            "text/html": [
              "<div>\n",
              "<style scoped>\n",
              "    .dataframe tbody tr th:only-of-type {\n",
              "        vertical-align: middle;\n",
              "    }\n",
              "\n",
              "    .dataframe tbody tr th {\n",
              "        vertical-align: top;\n",
              "    }\n",
              "\n",
              "    .dataframe thead th {\n",
              "        text-align: right;\n",
              "    }\n",
              "</style>\n",
              "<table border=\"1\" class=\"dataframe\">\n",
              "  <thead>\n",
              "    <tr style=\"text-align: right;\">\n",
              "      <th></th>\n",
              "      <th>CustomerID</th>\n",
              "      <th>ProdTaken</th>\n",
              "      <th>Age</th>\n",
              "      <th>TypeofContact</th>\n",
              "      <th>CityTier</th>\n",
              "      <th>DurationOfPitch</th>\n",
              "      <th>Occupation</th>\n",
              "      <th>Gender</th>\n",
              "      <th>NumberOfPersonVisited</th>\n",
              "      <th>NumberOfFollowups</th>\n",
              "      <th>ProductPitched</th>\n",
              "      <th>PreferredPropertyStar</th>\n",
              "      <th>MaritalStatus</th>\n",
              "      <th>NumberOfTrips</th>\n",
              "      <th>Passport</th>\n",
              "      <th>PitchSatisfactionScore</th>\n",
              "      <th>OwnCar</th>\n",
              "      <th>NumberOfChildrenVisited</th>\n",
              "      <th>Designation</th>\n",
              "      <th>MonthlyIncome</th>\n",
              "    </tr>\n",
              "  </thead>\n",
              "  <tbody>\n",
              "    <tr>\n",
              "      <th>1120</th>\n",
              "      <td>201120</td>\n",
              "      <td>0</td>\n",
              "      <td>NaN</td>\n",
              "      <td>Self Enquiry</td>\n",
              "      <td>3</td>\n",
              "      <td>22.0</td>\n",
              "      <td>Salaried</td>\n",
              "      <td>Female</td>\n",
              "      <td>2</td>\n",
              "      <td>3.0</td>\n",
              "      <td>Deluxe</td>\n",
              "      <td>4.0</td>\n",
              "      <td>Single</td>\n",
              "      <td>3.0</td>\n",
              "      <td>0</td>\n",
              "      <td>1</td>\n",
              "      <td>0</td>\n",
              "      <td>0.0</td>\n",
              "      <td>Manager</td>\n",
              "      <td>NaN</td>\n",
              "    </tr>\n",
              "    <tr>\n",
              "      <th>184</th>\n",
              "      <td>200184</td>\n",
              "      <td>0</td>\n",
              "      <td>53.0</td>\n",
              "      <td>Self Enquiry</td>\n",
              "      <td>1</td>\n",
              "      <td>NaN</td>\n",
              "      <td>Small Business</td>\n",
              "      <td>Female</td>\n",
              "      <td>2</td>\n",
              "      <td>2.0</td>\n",
              "      <td>Deluxe</td>\n",
              "      <td>5.0</td>\n",
              "      <td>Married</td>\n",
              "      <td>2.0</td>\n",
              "      <td>0</td>\n",
              "      <td>2</td>\n",
              "      <td>1</td>\n",
              "      <td>1.0</td>\n",
              "      <td>Manager</td>\n",
              "      <td>NaN</td>\n",
              "    </tr>\n",
              "    <tr>\n",
              "      <th>518</th>\n",
              "      <td>200518</td>\n",
              "      <td>0</td>\n",
              "      <td>NaN</td>\n",
              "      <td>Self Enquiry</td>\n",
              "      <td>3</td>\n",
              "      <td>13.0</td>\n",
              "      <td>Small Business</td>\n",
              "      <td>Female</td>\n",
              "      <td>2</td>\n",
              "      <td>4.0</td>\n",
              "      <td>Deluxe</td>\n",
              "      <td>3.0</td>\n",
              "      <td>Single</td>\n",
              "      <td>1.0</td>\n",
              "      <td>0</td>\n",
              "      <td>2</td>\n",
              "      <td>1</td>\n",
              "      <td>1.0</td>\n",
              "      <td>Manager</td>\n",
              "      <td>NaN</td>\n",
              "    </tr>\n",
              "    <tr>\n",
              "      <th>2272</th>\n",
              "      <td>202272</td>\n",
              "      <td>0</td>\n",
              "      <td>33.0</td>\n",
              "      <td>Company Invited</td>\n",
              "      <td>3</td>\n",
              "      <td>NaN</td>\n",
              "      <td>Salaried</td>\n",
              "      <td>Female</td>\n",
              "      <td>1</td>\n",
              "      <td>3.0</td>\n",
              "      <td>Deluxe</td>\n",
              "      <td>4.0</td>\n",
              "      <td>Married</td>\n",
              "      <td>1.0</td>\n",
              "      <td>0</td>\n",
              "      <td>4</td>\n",
              "      <td>0</td>\n",
              "      <td>0.0</td>\n",
              "      <td>Manager</td>\n",
              "      <td>NaN</td>\n",
              "    </tr>\n",
              "    <tr>\n",
              "      <th>581</th>\n",
              "      <td>200581</td>\n",
              "      <td>0</td>\n",
              "      <td>NaN</td>\n",
              "      <td>Self Enquiry</td>\n",
              "      <td>1</td>\n",
              "      <td>6.0</td>\n",
              "      <td>Salaried</td>\n",
              "      <td>Male</td>\n",
              "      <td>2</td>\n",
              "      <td>5.0</td>\n",
              "      <td>Basic</td>\n",
              "      <td>3.0</td>\n",
              "      <td>Divorced</td>\n",
              "      <td>4.0</td>\n",
              "      <td>0</td>\n",
              "      <td>4</td>\n",
              "      <td>1</td>\n",
              "      <td>0.0</td>\n",
              "      <td>Executive</td>\n",
              "      <td>NaN</td>\n",
              "    </tr>\n",
              "  </tbody>\n",
              "</table>\n",
              "</div>"
            ],
            "text/plain": [
              "      CustomerID  ProdTaken  ...  Designation MonthlyIncome\n",
              "1120      201120          0  ...      Manager           NaN\n",
              "184       200184          0  ...      Manager           NaN\n",
              "518       200518          0  ...      Manager           NaN\n",
              "2272      202272          0  ...      Manager           NaN\n",
              "581       200581          0  ...    Executive           NaN\n",
              "\n",
              "[5 rows x 20 columns]"
            ]
          },
          "metadata": {
            "tags": []
          },
          "execution_count": 12
        }
      ]
    },
    {
      "cell_type": "markdown",
      "metadata": {
        "id": "doGiTgLk_ZQS"
      },
      "source": [
        "- Based on some research, if the missingness is below 5% of the dataset, dropping the data will not significantly affect results."
      ]
    },
    {
      "cell_type": "code",
      "metadata": {
        "id": "jABS-8iF_nMU"
      },
      "source": [
        "# Dropping rows with 2 or 3 missing values\n",
        "index = df.loc[num_missing > 1].index.tolist()\n",
        "df.drop(df.index[[index]], inplace=True)"
      ],
      "execution_count": 13,
      "outputs": []
    },
    {
      "cell_type": "code",
      "metadata": {
        "colab": {
          "base_uri": "https://localhost:8080/"
        },
        "id": "5MDhR1oCF4Fs",
        "outputId": "25b8d938-387e-4d00-9a29-193f392f1c41"
      },
      "source": [
        "# rechecking missing values\n",
        "num_missing = df.isnull().sum(axis=1)\n",
        "num_missing.value_counts()"
      ],
      "execution_count": 18,
      "outputs": [
        {
          "output_type": "execute_result",
          "data": {
            "text/plain": [
              "0    4128\n",
              "1     533\n",
              "dtype: int64"
            ]
          },
          "metadata": {
            "tags": []
          },
          "execution_count": 18
        }
      ]
    },
    {
      "cell_type": "code",
      "metadata": {
        "colab": {
          "base_uri": "https://localhost:8080/"
        },
        "id": "7i_fBgJGGAl1",
        "outputId": "2d22d490-81d7-4ea8-aa95-a1c586ce8a35"
      },
      "source": [
        "df.isnull().sum() # rechecking where are the missing values"
      ],
      "execution_count": 22,
      "outputs": [
        {
          "output_type": "execute_result",
          "data": {
            "text/plain": [
              "CustomerID                   0\n",
              "ProdTaken                    0\n",
              "Age                         96\n",
              "TypeofContact                0\n",
              "CityTier                     0\n",
              "DurationOfPitch            154\n",
              "Occupation                   0\n",
              "Gender                       0\n",
              "NumberOfPersonVisited        0\n",
              "NumberOfFollowups           45\n",
              "ProductPitched               0\n",
              "PreferredPropertyStar       26\n",
              "MaritalStatus                0\n",
              "NumberOfTrips              140\n",
              "Passport                     0\n",
              "PitchSatisfactionScore       0\n",
              "OwnCar                       0\n",
              "NumberOfChildrenVisited     66\n",
              "Designation                  0\n",
              "MonthlyIncome                6\n",
              "dtype: int64"
            ]
          },
          "metadata": {
            "tags": []
          },
          "execution_count": 22
        }
      ]
    },
    {
      "cell_type": "code",
      "metadata": {
        "id": "Seji3ZRxGzzu"
      },
      "source": [
        "#continuation of filling missing values \n",
        "df['Age'].fillna(df['Age'].median(), inplace=True)\n",
        "df['DurationOfPitch'].fillna(df['DurationOfPitch'].median(), inplace=True)\n",
        "df['NumberOfFollowups'].fillna(df['NumberOfFollowups'].median(), inplace=True)\n",
        "df['PreferredPropertyStar'].fillna(df['PreferredPropertyStar'].median(), inplace=True) \n",
        "df['NumberOfTrips'].fillna(df['NumberOfTrips'].median(), inplace=True) \n",
        "df['NumberOfChildrenVisited'].fillna(df['NumberOfChildrenVisited'].median(), inplace=True) \n",
        "df['MonthlyIncome'].fillna(df['MonthlyIncome'].median(), inplace=True) "
      ],
      "execution_count": 24,
      "outputs": []
    },
    {
      "cell_type": "code",
      "metadata": {
        "colab": {
          "base_uri": "https://localhost:8080/"
        },
        "id": "7bX00naBH5tB",
        "outputId": "506e510f-fb15-4254-a03c-569efff85b2d"
      },
      "source": [
        "df.isnull().sum() # rechecking if it still has missing values"
      ],
      "execution_count": 26,
      "outputs": [
        {
          "output_type": "execute_result",
          "data": {
            "text/plain": [
              "CustomerID                 0\n",
              "ProdTaken                  0\n",
              "Age                        0\n",
              "TypeofContact              0\n",
              "CityTier                   0\n",
              "DurationOfPitch            0\n",
              "Occupation                 0\n",
              "Gender                     0\n",
              "NumberOfPersonVisited      0\n",
              "NumberOfFollowups          0\n",
              "ProductPitched             0\n",
              "PreferredPropertyStar      0\n",
              "MaritalStatus              0\n",
              "NumberOfTrips              0\n",
              "Passport                   0\n",
              "PitchSatisfactionScore     0\n",
              "OwnCar                     0\n",
              "NumberOfChildrenVisited    0\n",
              "Designation                0\n",
              "MonthlyIncome              0\n",
              "dtype: int64"
            ]
          },
          "metadata": {
            "tags": []
          },
          "execution_count": 26
        }
      ]
    },
    {
      "cell_type": "code",
      "metadata": {
        "colab": {
          "base_uri": "https://localhost:8080/"
        },
        "id": "0IO3Biax66D4",
        "outputId": "f43fe53b-9c05-44b1-dbdd-8796c3f3d2f7"
      },
      "source": [
        "# looking at value counts for non-numeric features\n",
        "\n",
        "num_to_display = 10  # defining this up here so it's easy to change later if I want\n",
        "for colname in df.dtypes[df.dtypes == 'category'].index:\n",
        "    val_counts = df[colname].value_counts(dropna=False)  # i want to see NA counts\n",
        "    print(val_counts[:num_to_display])\n",
        "    if len(val_counts) > num_to_display:\n",
        "        print(f'Only displaying first {num_to_display} of {len(val_counts)} values.')\n",
        "    print('\\n\\n') # just for more space between "
      ],
      "execution_count": 27,
      "outputs": [
        {
          "output_type": "stream",
          "text": [
            "Self Enquiry       3311\n",
            "Company Invited    1350\n",
            "Name: TypeofContact, dtype: int64\n",
            "\n",
            "\n",
            "\n",
            "Salaried          2267\n",
            "Small Business    1972\n",
            "Large Business     420\n",
            "Free Lancer          2\n",
            "Name: Occupation, dtype: int64\n",
            "\n",
            "\n",
            "\n",
            "Male       2785\n",
            "Female     1721\n",
            "Fe Male     155\n",
            "Name: Gender, dtype: int64\n",
            "\n",
            "\n",
            "\n",
            "Basic           1757\n",
            "Deluxe          1590\n",
            "Standard         742\n",
            "Super Deluxe     342\n",
            "King             230\n",
            "Name: ProductPitched, dtype: int64\n",
            "\n",
            "\n",
            "\n",
            "Married      2231\n",
            "Divorced      903\n",
            "Single        845\n",
            "Unmarried     682\n",
            "Name: MaritalStatus, dtype: int64\n",
            "\n",
            "\n",
            "\n",
            "Executive         1757\n",
            "Manager           1590\n",
            "Senior Manager     742\n",
            "AVP                342\n",
            "VP                 230\n",
            "Name: Designation, dtype: int64\n",
            "\n",
            "\n",
            "\n"
          ],
          "name": "stdout"
        }
      ]
    },
    {
      "cell_type": "code",
      "metadata": {
        "id": "NuxsTuyaAxvY"
      },
      "source": [
        "#Correting some values with typo in the Genre\n",
        "df['Gender'] = df['Gender'].replace('Fe Male', 'Female')"
      ],
      "execution_count": 28,
      "outputs": []
    },
    {
      "cell_type": "markdown",
      "metadata": {
        "id": "y6QpWR8167GO"
      },
      "source": [
        ""
      ]
    }
  ]
}